{
  "nbformat": 4,
  "nbformat_minor": 0,
  "metadata": {
    "colab": {
      "name": "Flipkart WebScraping.ipynb",
      "provenance": [],
      "authorship_tag": "ABX9TyNTZbMQWJRKNKCXXtdENCnj",
      "include_colab_link": true
    },
    "kernelspec": {
      "name": "python3",
      "display_name": "Python 3"
    },
    "language_info": {
      "name": "python"
    }
  },
  "cells": [
    {
      "cell_type": "markdown",
      "metadata": {
        "id": "view-in-github",
        "colab_type": "text"
      },
      "source": [
        "<a href=\"https://colab.research.google.com/github/pallavi-chavan7/Flipkart_Web_Scraping/blob/main/Flipkart_WebScraping.ipynb\" target=\"_parent\"><img src=\"https://colab.research.google.com/assets/colab-badge.svg\" alt=\"Open In Colab\"/></a>"
      ]
    },
    {
      "cell_type": "code",
      "metadata": {
        "id": "2qrqwm77jxWw"
      },
      "source": [
        "# import all the packages\n",
        "\n",
        "import requests\n",
        "from bs4 import BeautifulSoup\n",
        "import pandas as pd\n",
        "import time"
      ],
      "execution_count": 1,
      "outputs": []
    },
    {
      "cell_type": "code",
      "metadata": {
        "id": "hn5MYjqlj7cL"
      },
      "source": [
        "url = 'https://www.flipkart.com/search?q=+macbook&otracker=search&otracker1=search&marketplace=FLIPKART&as-show=on&as=off&as-pos=1&as-type=HISTORY'\n",
        "req = requests.get(url)\n",
        "print(req)\n",
        "soup = BeautifulSoup(req.text,'html')\n",
        "print(soup)"
      ],
      "execution_count": null,
      "outputs": []
    },
    {
      "cell_type": "code",
      "metadata": {
        "id": "U_mHFV7Pj7vP",
        "colab": {
          "base_uri": "https://localhost:8080/",
          "height": 35
        },
        "outputId": "85906bdd-d2dd-4ee3-a76d-7c0909032217"
      },
      "source": [
        "soup.find('div',attrs={'class':'_4rR01T'}).text   #Product name\n"
      ],
      "execution_count": 3,
      "outputs": [
        {
          "output_type": "execute_result",
          "data": {
            "application/vnd.google.colaboratory.intrinsic+json": {
              "type": "string"
            },
            "text/plain": [
              "'APPLE MacBook Air M1 - (8 GB/256 GB SSD/Mac OS Big Sur) MGN63HN/A'"
            ]
          },
          "metadata": {
            "tags": []
          },
          "execution_count": 3
        }
      ]
    },
    {
      "cell_type": "code",
      "metadata": {
        "colab": {
          "base_uri": "https://localhost:8080/",
          "height": 35
        },
        "id": "yoibDI8jb_sA",
        "outputId": "5b187c66-089e-4ed3-cd76-b7522ceeae0b"
      },
      "source": [
        "soup.find('div',attrs={'class':'_30jeq3 _1_WHN1'}).text   #Product price\n"
      ],
      "execution_count": 4,
      "outputs": [
        {
          "output_type": "execute_result",
          "data": {
            "application/vnd.google.colaboratory.intrinsic+json": {
              "type": "string"
            },
            "text/plain": [
              "'₹92,900'"
            ]
          },
          "metadata": {
            "tags": []
          },
          "execution_count": 4
        }
      ]
    },
    {
      "cell_type": "code",
      "metadata": {
        "id": "08HHU4-Pya3Y"
      },
      "source": [
        "soup.findAll('div',attrs={'class':'_30jeq3 _1_WHN1'})   \n"
      ],
      "execution_count": null,
      "outputs": []
    },
    {
      "cell_type": "code",
      "metadata": {
        "colab": {
          "base_uri": "https://localhost:8080/",
          "height": 35
        },
        "id": "5fetSyq3rpCg",
        "outputId": "3d5f6c4b-c072-431f-a268-ff727245198c"
      },
      "source": [
        "soup.find('div',attrs={'class':'_3LWZlK'}).text   #stars"
      ],
      "execution_count": 6,
      "outputs": [
        {
          "output_type": "execute_result",
          "data": {
            "application/vnd.google.colaboratory.intrinsic+json": {
              "type": "string"
            },
            "text/plain": [
              "'4.7'"
            ]
          },
          "metadata": {
            "tags": []
          },
          "execution_count": 6
        }
      ]
    },
    {
      "cell_type": "code",
      "metadata": {
        "id": "DWEeqDiaj72w",
        "colab": {
          "base_uri": "https://localhost:8080/",
          "height": 69
        },
        "outputId": "bb91dc40-5461-4925-f355-dccb55262027"
      },
      "source": [
        "soup.find('div',attrs={'class':'fMghEO'}).text   #specification"
      ],
      "execution_count": 7,
      "outputs": [
        {
          "output_type": "execute_result",
          "data": {
            "application/vnd.google.colaboratory.intrinsic+json": {
              "type": "string"
            },
            "text/plain": [
              "'Apple M1 Processor8 GB DDR4 RAMMac OS Operating System256 GB SSD33.78 cm (13.3 inch) DisplayBuilt-in Apps: iMovie, Siri, GarageBand, Pages, Numbers, Photos, Keynote, Safari, Mail, FaceTime, Messages, Maps, Stocks, Home, Voice Memos, Notes, Calendar, Contacts, Reminders, Photo Booth, Preview, Books, App Store, Time Machine, TV, Music, Podcasts, Find My, QuickTime Player1 Year Limited Warra\\xadnty'"
            ]
          },
          "metadata": {
            "tags": []
          },
          "execution_count": 7
        }
      ]
    },
    {
      "cell_type": "code",
      "metadata": {
        "id": "MYpV24RYj8Cx",
        "colab": {
          "base_uri": "https://localhost:8080/",
          "height": 35
        },
        "outputId": "add90dba-e008-41dc-f3db-d20a323ede52"
      },
      "source": [
        "soup.find('span',attrs={'class':'_2_R_DZ'}).text   # rating and reviews"
      ],
      "execution_count": 8,
      "outputs": [
        {
          "output_type": "execute_result",
          "data": {
            "application/vnd.google.colaboratory.intrinsic+json": {
              "type": "string"
            },
            "text/plain": [
              "'616 Ratings\\xa0&\\xa089 Reviews'"
            ]
          },
          "metadata": {
            "tags": []
          },
          "execution_count": 8
        }
      ]
    },
    {
      "cell_type": "code",
      "metadata": {
        "colab": {
          "base_uri": "https://localhost:8080/"
        },
        "id": "7H1ssPae2RB5",
        "outputId": "85999bf6-2d08-407a-f7cd-2ec3a4e52fd1"
      },
      "source": [
        "rating = soup.findAll('span',attrs={'class':'_2_R_DZ'})   # rating and reviews\n",
        "for i in rating:\n",
        "  print(i.text.split('&'))"
      ],
      "execution_count": 9,
      "outputs": [
        {
          "output_type": "stream",
          "text": [
            "['616 Ratings\\xa0', '\\xa089 Reviews']\n",
            "['616 Ratings\\xa0', '\\xa089 Reviews']\n",
            "['186 Ratings\\xa0', '\\xa022 Reviews']\n",
            "['186 Ratings\\xa0', '\\xa022 Reviews']\n",
            "['420 Ratings\\xa0', '\\xa023 Reviews']\n",
            "['420 Ratings\\xa0', '\\xa023 Reviews']\n",
            "['186 Ratings\\xa0', '\\xa022 Reviews']\n",
            "['420 Ratings\\xa0', '\\xa023 Reviews']\n",
            "['161 Ratings\\xa0', '\\xa019 Reviews']\n",
            "['94 Ratings\\xa0', '\\xa010 Reviews']\n",
            "['324 Ratings\\xa0', '\\xa044 Reviews']\n",
            "['161 Ratings\\xa0', '\\xa019 Reviews']\n",
            "['145 Ratings\\xa0', '\\xa014 Reviews']\n",
            "['94 Ratings\\xa0', '\\xa010 Reviews']\n",
            "['41 Ratings\\xa0', '\\xa05 Reviews']\n",
            "['39 Ratings\\xa0', '\\xa03 Reviews']\n",
            "['109 Ratings\\xa0', '\\xa013 Reviews']\n",
            "['109 Ratings\\xa0', '\\xa013 Reviews']\n",
            "['256 Ratings\\xa0', '\\xa035 Reviews']\n",
            "['192 Ratings\\xa0', '\\xa023 Reviews']\n",
            "['31 Ratings\\xa0', '\\xa05 Reviews']\n",
            "['32 Ratings\\xa0', '\\xa02 Reviews']\n",
            "['17 Ratings\\xa0', '\\xa01 Reviews']\n",
            "['98 Ratings\\xa0', '\\xa05 Reviews']\n"
          ],
          "name": "stdout"
        }
      ]
    },
    {
      "cell_type": "code",
      "metadata": {
        "id": "hvxkGzIfj8JG",
        "colab": {
          "base_uri": "https://localhost:8080/"
        },
        "outputId": "ae0d3342-2f7a-42e0-fe8e-41d44a663a32"
      },
      "source": [
        "soup.find('ul',attrs={'class':'_1xgFaf'}).text   #properties\n",
        "\n",
        "ul_ps = soup.find('ul',attrs={'class':'_1xgFaf'})   #properties\n",
        "li_1st = ul_ps.findAll('li')\n",
        "[i.text for i in li_1st]\n"
      ],
      "execution_count": 10,
      "outputs": [
        {
          "output_type": "execute_result",
          "data": {
            "text/plain": [
              "['Apple M1 Processor',\n",
              " '8 GB DDR4 RAM',\n",
              " 'Mac OS Operating System',\n",
              " '256 GB SSD',\n",
              " '33.78 cm (13.3 inch) Display',\n",
              " 'Built-in Apps: iMovie, Siri, GarageBand, Pages, Numbers, Photos, Keynote, Safari, Mail, FaceTime, Messages, Maps, Stocks, Home, Voice Memos, Notes, Calendar, Contacts, Reminders, Photo Booth, Preview, Books, App Store, Time Machine, TV, Music, Podcasts, Find My, QuickTime Player',\n",
              " '1 Year Limited Warra\\xadnty']"
            ]
          },
          "metadata": {
            "tags": []
          },
          "execution_count": 10
        }
      ]
    },
    {
      "cell_type": "code",
      "metadata": {
        "id": "E3-auekCj8QE"
      },
      "source": [
        "rating = soup.findAll('span',attrs={'class':'_2_R_DZ'})\n",
        "\n",
        "a_l = []\n",
        "for i in rating:\n",
        "  a_l.append(i.span.findAll('span'))"
      ],
      "execution_count": 16,
      "outputs": []
    },
    {
      "cell_type": "code",
      "metadata": {
        "id": "6qq48TG3j8Vj"
      },
      "source": [
        "rating = []\n",
        "review = []\n",
        "\n",
        "for i,j,k in a_l:\n",
        "  rating.append(i.text)\n",
        "  \n",
        "  review.append(k.text)\n",
        "  "
      ],
      "execution_count": 18,
      "outputs": []
    },
    {
      "cell_type": "code",
      "metadata": {
        "id": "o7rFRwG0cYha"
      },
      "source": [
        "rating"
      ],
      "execution_count": null,
      "outputs": []
    },
    {
      "cell_type": "code",
      "metadata": {
        "id": "nkx6rEn3cYmc"
      },
      "source": [
        "review"
      ],
      "execution_count": null,
      "outputs": []
    },
    {
      "cell_type": "code",
      "metadata": {
        "id": "bFGyIABVcYph"
      },
      "source": [
        ""
      ],
      "execution_count": 12,
      "outputs": []
    }
  ]
}